{
 "cells": [
  {
   "cell_type": "markdown",
   "id": "fb156129",
   "metadata": {},
   "source": [
    "## Perform linear regression calculations from first principles\n",
    "\n",
    "Output: Lightweight module to perform all relevant linear regression calculations:\n",
    "1. Linear Regression Assumption Diagnostics\n",
    "2. Implement Data Transformations to correct for assumptions\n",
    "3. Calculation of Linear Coefficients and Correlation\n",
    "4. Calculating Standard Error of the Regression, Mean, Forecast, Linear Coefficients\n",
    "5. Plot Charts representing prediction and Confidence Intervals"
   ]
  },
  {
   "cell_type": "code",
   "execution_count": 4,
   "id": "4e625607",
   "metadata": {},
   "outputs": [],
   "source": [
    "import pandas as pd\n",
    "import numpy as np\n",
    "import matplotlib.pyplot as plt\n",
    "import scipy.stats as st\n",
    "import statsmodels.api as sm\n",
    "from statsmodels.stats.stattools import durbin_watson"
   ]
  },
  {
   "cell_type": "markdown",
   "id": "39733338",
   "metadata": {},
   "source": [
    "Args and Kwargs --> allows function to take variable length arguments\n",
    "1. Args: Non-Keyward Argument --> just adding any variables\n",
    "2. Kwargs: Keyword Argument --> adding variables that are named using keywords"
   ]
  },
  {
   "cell_type": "code",
   "execution_count": 239,
   "id": "f33ebdba",
   "metadata": {},
   "outputs": [],
   "source": [
    "# create a linear regression class, that after pushing in 2 lists, generates all linear regression statistics\n",
    "class LinearReg:\n",
    "    # create a class to generate and store all linear regression variables, based on inputs x and y\n",
    "    \n",
    "    # initiate constructor of the class\n",
    "    def __init__(self, x: list, y: list, x_label: str = 'x', y_label: str = 'y'):\n",
    "        # store x and y in a dataframe and extract reusable variables\n",
    "        self.df = pd.DataFrame(list(zip(x, y)), columns=['x', 'y'])\n",
    "        self.mean_x, self.mean_y = df['x'].mean(), df['y'].mean()\n",
    "        self.std_x, self.std_y = df['x'].std(), df['y'].std()\n",
    "        self.n = len(self.df)\n",
    "        \n",
    "        # generate standardised values\n",
    "        self.df['standard_x'] = (df['x'] - self.mean_x) / self.std_x\n",
    "        self.df['standard_y'] = (df['y'] - self.mean_y) / self.std_y\n",
    "\n",
    "        # generate correlation coefficient from first principles: average product of standardised values of x and y\n",
    "        # Note we can also use the correlation coefficient\n",
    "        self.corr = sum(self.df.standard_x * self.df.standard_y) / self.n\n",
    "        self.r_squared = self.corr ** 2\n",
    "        \n",
    "        # generate linear coefficients\n",
    "        self.b1 = self.corr * self.std_y / self.std_x\n",
    "        self.b0 = self.mean_y - self.b1 * self.mean_x\n",
    "        \n",
    "        # generate errors in df\n",
    "        self.df['lin_y'] = self.b0 + self.b1 * self.df.x\n",
    "        self.df['err'] = self.df.y - self.df.lin_y\n",
    "        self.rmse = np.sqrt((self.df.err ** 2).sum() / self.n)\n",
    "        \n",
    "        # check for log bool of dependent variable y\n",
    "        self.y_log = False\n",
    "        \n",
    "        # save se_reg\n",
    "        self.se_reg = np.sqrt(1/(self.n-2) * sum(self.df.err**2))\n",
    "        \n",
    "    # generate prediction\n",
    "    def get_prediction(self, x) -> float:\n",
    "        prediction = self.b0 + self.b1 * x\n",
    "        return prediction\n",
    "        \n",
    "    # calculate standard errors of coefficients and the regression\n",
    "    def update_coefficient_standard_errors(self):        \n",
    "        # standard error of the linear coefficients\n",
    "        self.se_b1 = (self.se_reg / (self.n**0.5)) * (1 + ((self.mean_x ** 2) / self.std_x **2)) ** 0.5\n",
    "        self.se_b0 = (self.se_reg / (self.n**0.5)) * (1 / self.std_x)\n",
    "        output = {'SE Regression': round(self.se_reg, 3),\n",
    "                  'SE B0': round(self.se_b0, 3),\n",
    "                  'SE B1': round(self.se_b1, 3)\n",
    "                 }\n",
    "        return output\n",
    "    \n",
    "    # get standard error of a single observation\n",
    "    def get_standard_errors(self, x: int) -> dict:\n",
    "        self.update_coefficient_standard_errors()\n",
    "        se_mean = (self.se_reg / (self.n ** 0.5)) * np.sqrt((x - self.mean_x) ** 2 / (self.std_x ** 2))\n",
    "        se_forecast = np.sqrt(self.se_reg ** 2 + se_mean ** 2)\n",
    "        # return dictionary of results\n",
    "        return {'se_mean': se_mean, 'se_forecast': se_forecast}\n",
    "    \n",
    "    # plot confidence intervals based on regression\n",
    "    def get_confidence_interval(self, x, confidence_level: int = 0.95) -> float:\n",
    "        # using standard error of the forecast, calculate confidence intervals - 95% CI\n",
    "        alpha = 1 - (1 - confidence_level)/2\n",
    "        critical_t_value = st.norm.ppf(alpha)\n",
    "        confidence_interval = critical_t_value * self.get_standard_errors(x)['se_forecast']\n",
    "        return confidence_interval\n",
    "        \n",
    "    # perform checks on linearity and homoscedasticity\n",
    "    def assumption_checks(self, fig_size: tuple = (10, 10), size: int = 5):\n",
    "        # lay out plot figure\n",
    "        figure = plt.figure(figsize=fig_size)\n",
    "        \n",
    "        # construct plots to check for independence of erros\n",
    "        # residuals against independent values\n",
    "        residual_x_plot = figure.add_subplot(221)\n",
    "        residual_x_plot.scatter(self.df.x, self.df.err, s=size)\n",
    "        plt.axhline(0, color='red')\n",
    "        plt.axvline(0, color='red')        \n",
    "        plt.ylabel('Error')\n",
    "        plt.xlabel('x')\n",
    "        plt.title('Checking for Independence of Errors')\n",
    "        \n",
    "        # construct plots to check for linearity and homoscedasticity\n",
    "        # residuals against predicted values\n",
    "        residual_liny_plot = figure.add_subplot(222)\n",
    "        residual_liny_plot.scatter(self.df.lin_y, self.df.err, s=size)\n",
    "        plt.axhline(0, color='red')        \n",
    "        plt.ylabel('Error')\n",
    "        plt.xlabel('Prediction')\n",
    "        plt.title('Checking for Linearity')\n",
    "        \n",
    "        # construct plots to check for homoscedasticity - scale-location plot\n",
    "        # squared residual against predicted values\n",
    "        residual_liny_plot = figure.add_subplot(223)\n",
    "        # plot root of standardised residual over predicted values\n",
    "        residual_liny_plot.scatter(self.df.lin_y, ((self.df.err - self.df.err.mean()) / self.df.err.std()) ** 0.5, s=size)\n",
    "        plt.ylabel('Squareroot of Standardised Residual')\n",
    "        plt.xlabel('Prediction')        \n",
    "        plt.title('Checking for Homoscedasticity: Scale-Location Plot')\n",
    "        \n",
    "        # construct QQ plot to check for normality of errors\n",
    "        qqplot_df = self.generate_qq_plot()\n",
    "        residual_qq_plot = figure.add_subplot(224)\n",
    "        residual_qq_plot.scatter(qqplot_df.theoretical_err, qqplot_df.err, s=size)\n",
    "        plt.title('Checking for Normality of Errors: QQPlot')\n",
    "        plt.ylabel('Normal Data Quantiles')\n",
    "        plt.xlabel('Normal Theoretical Quantiles')\n",
    "        \n",
    "        plt.show()\n",
    "        \n",
    "        # print checks\n",
    "        print(\"Assumption Checks:\\nIndependence of Errors: Residuals should be randomly and symmetrically distributed around zero under all conditions\\nLinearity: The points should be symmetrically distributed around a horizontal line, with roughly constant variance.\\nHomoscedasticity: Check for patterns in residuals - they should not systematically get larger/smaller.\\nNormality of Error Distribution: Check if points in QQPlot fall close to diagonal reference line.\")\n",
    "        \n",
    "        # Statistical Tests for Independence of Errors: Durbin Watson Test\n",
    "        db_result = round(durbin_watson(self.df.err), 3)\n",
    "        print('Performing Durbin Watson Test to check for Independence of Errors...')\n",
    "        if (db_result >= 1.5 and db_result <= 2.5):\n",
    "            db_bool = 'not correlated'\n",
    "        else:\n",
    "            db_bool = 'correlated'\n",
    "        print(f'Durbin Watson: {db_result}; the errors are {db_bool}.')    \n",
    "        \n",
    "        \n",
    "    # obtain quantile-quantile-plot from first principles, using error\n",
    "    # to check for normality of errors\n",
    "    def generate_qq_plot(self):\n",
    "        # compare the real distribution of the errors with a normal distribution\n",
    "        err_mean = self.df.err.mean()\n",
    "        err_std = self.df.err.std()\n",
    "        new_df = self.df\n",
    "        \n",
    "        # generate new column of hypothetical percentiles\n",
    "        new_df['err_percentile'] = st.percentileofscore(new_df.err, new_df.err)  # obtain percentile\n",
    "        new_df['theoretical_err'] = (st.norm.ppf(new_df['err_percentile']/100) * err_std) + err_mean # obtain new figure based on percentile\n",
    "        return new_df\n",
    "        \n",
    "    # perform first scatter plot of raw data and linear predictions\n",
    "    def plot_basic(self):\n",
    "        plt.figure(figsize=(7, 5))\n",
    "        plt.scatter(self.df.x, self.df.y, color='b', s=2)\n",
    "        plt.plot(self.df.x, self.df.lin_y, color='r')\n",
    "        plt.title('Raw Data with first Linear Prediction')\n",
    "        plt.xlabel('x')\n",
    "        plt.ylabel('y')\n",
    "        plt.show()\n",
    "        \n",
    "    # if Y is strictly positive, we can perform a log transformation to the dependent variable\n",
    "    def log_transform_y(self, y_log: bool = False):\n",
    "        # set y_log to be bool by default\n",
    "        if self.y_log == False:\n",
    "            if y_log == True:\n",
    "                self.y_log = True\n",
    "                self.df['original_y'] = self.df.y\n",
    "                self.df['y'] = np.log(self.df.original_y)\n",
    "                self.y_log = y_log # reassign book\n",
    "            else:\n",
    "                pass\n",
    "        if self.y_log == True:\n",
    "            if y_log == False:\n",
    "                self.df['y'] = self.df.original_y\n",
    "                self.df.drop('original_y', axis=1, inplace=True)\n",
    "                self.y_log = y_log # reassign bool\n",
    "            else:\n",
    "                pass\n",
    "        return self.y_log\n",
    "    \n",
    "    # linear regression plot with confidence intervals\n",
    "    def linear_reg_plot(self, interval: int = 1, confidence_level: float = 0.95, xmin: float = None, xmax: float = None):      \n",
    "        # if information not provided\n",
    "        if not xmin:\n",
    "            xmin = self.df.x.min()\n",
    "        if not xmax:\n",
    "            xmax = self.df.x.max()\n",
    "\n",
    "        # generate ranges\n",
    "        self.x_range = range(xmin, xmax, interval)\n",
    "        self.prediction = [model.get_prediction(x) for x in self.x_range]\n",
    "        self.confidence_intervals = [self.get_confidence_interval(x, confidence_level) for x in self.x_range]\n",
    "        self.lower_bound = np.array(self.prediction) - np.array(self.confidence_intervals)\n",
    "        self.upper_bound = np.array(self.prediction) + np.array(self.confidence_intervals)\n",
    "\n",
    "        # generate plots\n",
    "        fig = plt.figure(figsize=(10, 6))\n",
    "        plt.plot(self.x_range, self.prediction)\n",
    "        plt.fill_between(self.x_range, self.lower_bound, self.upper_bound, color='antiquewhite')\n",
    "        plt.scatter(self.df.x, self.df.y, s=4)        \n",
    "        plt.title(f'Linear Regression Predictions with {confidence_level * 100}% Confidence Interval')\n",
    "        plt.xlabel('x')\n",
    "        plt.ylabel('y')\n",
    "        plt.show()\n",
    "        \n",
    "    # overall summary of regression analysis\n",
    "    def linear_reg_summary(self, confidence_level: float = 0.95):\n",
    "        # perform assumption checks\n",
    "        self.assumption_checks()\n",
    "        \n",
    "        # obtain parameters\n",
    "        output_dict = self.update_coefficient_standard_errors()\n",
    "        output_dict['b0'] = round(self.b0, 3)\n",
    "        output_dict['b1'] = round(self.b1, 3)\n",
    "        output_dict['Correlation'] = round(self.corr, 3)\n",
    "        output_dict['R-Squared'] = round(self.r_squared, 3)\n",
    "        output_dict['RMSE'] = round(self.rmse, 3)\n",
    "        output_dict['b0 Standard Error'] = output_dict.pop('SE B0')\n",
    "        output_dict['b1 Standard Error'] = output_dict.pop('SE B1')\n",
    "        output_dict['Regression Standard Error'] = output_dict.pop('SE Regression')\n",
    "        self.output_dict = output_dict\n",
    "        print('Generating LinReg Parameters...')\n",
    "        for k, v in self.output_dict.items():\n",
    "            print(f'{k}: {v}')\n",
    "        \n",
    "        # Perform linear regression, with confidence intervals\n",
    "        self.linear_reg_plot(confidence_level=confidence_level)\n",
    "        print('Linear Regression Analysis Completed')"
   ]
  },
  {
   "cell_type": "code",
   "execution_count": 240,
   "id": "8d14f272",
   "metadata": {},
   "outputs": [],
   "source": [
    "# import relevant datasets\n",
    "train_df = pd.read_csv('train.csv')\n",
    "test_df = pd.read_csv('test.csv')\n",
    "\n",
    "# remove non-numerical columns\n",
    "train_df = train_df.loc[:, train_df.dtypes != 'object']\n",
    "\n",
    "# selecting lot area for linear regression\n",
    "df = train_df[['LotArea', 'SalePrice']]\n",
    "\n",
    "# calculate standardised variables\n",
    "df = df.rename(columns={'LotArea':'x', 'SalePrice':'y'})"
   ]
  },
  {
   "cell_type": "code",
   "execution_count": 241,
   "id": "cdfb94e3",
   "metadata": {},
   "outputs": [],
   "source": [
    "# initialise class\n",
    "model = LinearReg(df.x, df.y)"
   ]
  },
  {
   "cell_type": "code",
   "execution_count": 243,
   "id": "4f3d4e3a",
   "metadata": {},
   "outputs": [
    {
     "data": {
      "image/png": "[encoded data removed]",
      "text/plain": [
       "<Figure size 720x720 with 4 Axes>"
      ]
     },
     "metadata": {
      "needs_background": "light"
     },
     "output_type": "display_data"
    },
    {
     "name": "stdout",
     "output_type": "stream",
     "text": [
      "Assumption Checks:\n",
      "Independence of Errors: Residuals should be randomly and symmetrically distributed around zero under all conditions\n",
      "Linearity: The points should be symmetrically distributed around a horizontal line, with roughly constant variance.\n",
      "Homoscedasticity: Check for patterns in residuals - they should not systematically get larger/smaller.\n",
      "Normality of Error Distribution: Check if points in QQPlot fall close to diagonal reference line.\n",
      "Performing Durbin Watson Test to check for Independence of Errors...\n",
      "Durbin Watson: 1.998; the errors are not correlated.\n",
      "Generating LinReg Parameters...\n",
      "b0: 158851.279\n",
      "b1: 2.099\n",
      "Correlation: 0.264\n",
      "R-Squared: 0.07\n",
      "RMSE: 76601.255\n",
      "b0 Standard Error: 0.201\n",
      "b1 Standard Error: 2914.192\n",
      "Regression Standard Error: 76653.776\n"
     ]
    },
    {
     "data": {
      "image/png": "[encoded data removed]",
      "text/plain": [
       "<Figure size 720x504 with 1 Axes>"
      ]
     },
     "metadata": {
      "needs_background": "light"
     },
     "output_type": "display_data"
    },
    {
     "name": "stdout",
     "output_type": "stream",
     "text": [
      "Linear Regression Analysis Completed\n"
     ]
    }
   ],
   "source": [
    "model.linear_reg_summary()"
   ]
  },
  {
   "cell_type": "code",
   "execution_count": null,
   "id": "1e450add",
   "metadata": {},
   "outputs": [],
   "source": []
  },
  {
   "cell_type": "code",
   "execution_count": null,
   "id": "2ebabcae",
   "metadata": {},
   "outputs": [],
   "source": []
  },
  {
   "cell_type": "code",
   "execution_count": null,
   "id": "4a377e89",
   "metadata": {},
   "outputs": [],
   "source": []
  },
  {
   "cell_type": "code",
   "execution_count": null,
   "id": "16cd9fa2",
   "metadata": {},
   "outputs": [],
   "source": []
  },
  {
   "cell_type": "code",
   "execution_count": null,
   "id": "f58a0235",
   "metadata": {},
   "outputs": [],
   "source": []
  },
  {
   "cell_type": "code",
   "execution_count": null,
   "id": "26149672",
   "metadata": {},
   "outputs": [],
   "source": []
  },
  {
   "cell_type": "code",
   "execution_count": 208,
   "id": "08403b64",
   "metadata": {},
   "outputs": [
    {
     "data": {
      "text/plain": [
       "{'SE Regression': 76653.776, 'SE B0': 0.201, 'SE B1': 2914.192}"
      ]
     },
     "execution_count": 208,
     "metadata": {},
     "output_type": "execute_result"
    }
   ],
   "source": [
    "o"
   ]
  },
  {
   "cell_type": "code",
   "execution_count": 206,
   "id": "48f1eabc",
   "metadata": {},
   "outputs": [],
   "source": [
    "df = pd.DataFrame.from_dict(o, orient='index').rename(columns={0:'Value'})"
   ]
  },
  {
   "cell_type": "code",
   "execution_count": 207,
   "id": "ee73cc4e",
   "metadata": {},
   "outputs": [
    {
     "data": {
      "text/html": [
       "<div>\n",
       "<style scoped>\n",
       "    .dataframe tbody tr th:only-of-type {\n",
       "        vertical-align: middle;\n",
       "    }\n",
       "\n",
       "    .dataframe tbody tr th {\n",
       "        vertical-align: top;\n",
       "    }\n",
       "\n",
       "    .dataframe thead th {\n",
       "        text-align: right;\n",
       "    }\n",
       "</style>\n",
       "<table border=\"1\" class=\"dataframe\">\n",
       "  <thead>\n",
       "    <tr style=\"text-align: right;\">\n",
       "      <th></th>\n",
       "      <th>value</th>\n",
       "    </tr>\n",
       "  </thead>\n",
       "  <tbody>\n",
       "    <tr>\n",
       "      <th>SE Regression</th>\n",
       "      <td>76653.776</td>\n",
       "    </tr>\n",
       "    <tr>\n",
       "      <th>SE B0</th>\n",
       "      <td>0.201</td>\n",
       "    </tr>\n",
       "    <tr>\n",
       "      <th>SE B1</th>\n",
       "      <td>2914.192</td>\n",
       "    </tr>\n",
       "  </tbody>\n",
       "</table>\n",
       "</div>"
      ],
      "text/plain": [
       "                   value\n",
       "SE Regression  76653.776\n",
       "SE B0              0.201\n",
       "SE B1           2914.192"
      ]
     },
     "execution_count": 207,
     "metadata": {},
     "output_type": "execute_result"
    }
   ],
   "source": [
    "df"
   ]
  },
  {
   "cell_type": "code",
   "execution_count": null,
   "id": "c99a8056",
   "metadata": {},
   "outputs": [],
   "source": []
  },
  {
   "cell_type": "code",
   "execution_count": 164,
   "id": "8020d821",
   "metadata": {},
   "outputs": [
    {
     "data": {
      "text/plain": [
       "213945"
      ]
     },
     "execution_count": 164,
     "metadata": {},
     "output_type": "execute_result"
    }
   ],
   "source": [
    "len(model.confidence_intervals)"
   ]
  },
  {
   "cell_type": "code",
   "execution_count": 166,
   "id": "75e76664",
   "metadata": {},
   "outputs": [
    {
     "data": {
      "text/plain": [
       "100000"
      ]
     },
     "execution_count": 166,
     "metadata": {},
     "output_type": "execute_result"
    }
   ],
   "source": [
    "len(model.prediction)"
   ]
  },
  {
   "cell_type": "code",
   "execution_count": null,
   "id": "a9d96ff1",
   "metadata": {},
   "outputs": [],
   "source": []
  },
  {
   "cell_type": "code",
   "execution_count": null,
   "id": "478bb819",
   "metadata": {},
   "outputs": [],
   "source": []
  },
  {
   "cell_type": "code",
   "execution_count": null,
   "id": "7ee377e0",
   "metadata": {},
   "outputs": [],
   "source": []
  },
  {
   "cell_type": "code",
   "execution_count": null,
   "id": "703544dd",
   "metadata": {},
   "outputs": [],
   "source": []
  },
  {
   "cell_type": "code",
   "execution_count": null,
   "id": "08ed3599",
   "metadata": {},
   "outputs": [],
   "source": []
  },
  {
   "cell_type": "code",
   "execution_count": null,
   "id": "3a06603e",
   "metadata": {},
   "outputs": [],
   "source": []
  },
  {
   "cell_type": "code",
   "execution_count": 134,
   "id": "6425e018",
   "metadata": {},
   "outputs": [],
   "source": [
    "x_range = [x for x in range(0, 100000, 1)]\n",
    "prediction = [model.get_prediction(x) for x in x_range]\n",
    "confidence_level = 0.95"
   ]
  },
  {
   "cell_type": "code",
   "execution_count": 111,
   "id": "30e961b1",
   "metadata": {},
   "outputs": [],
   "source": [
    "confidence_intervals = [model.get_confidence_interval(x, confidence_level) for x in x_range]"
   ]
  },
  {
   "cell_type": "code",
   "execution_count": 116,
   "id": "ddfa09aa",
   "metadata": {},
   "outputs": [
    {
     "data": {
      "text/plain": [
       "array([  8555.52812051,   8557.63751229,   8559.74690305, ...,\n",
       "       214380.04047848, 214382.04903107, 214384.0575827 ])"
      ]
     },
     "execution_count": 116,
     "metadata": {},
     "output_type": "execute_result"
    }
   ],
   "source": [
    "np.array(prediction) - np.array(confidence_intervals)"
   ]
  },
  {
   "cell_type": "code",
   "execution_count": 123,
   "id": "1a0bb251",
   "metadata": {},
   "outputs": [
    {
     "data": {
      "image/png": "[encoded data removed]",
      "text/plain": [
       "<Figure size 432x288 with 1 Axes>"
      ]
     },
     "metadata": {
      "needs_background": "light"
     },
     "output_type": "display_data"
    }
   ],
   "source": [
    "# plot confidence intervals\n",
    "plt.plot(x_range, prediction)\n",
    "plt.fill_between(x_range, np.array(prediction) - np.array(confidence_intervals), np.array(prediction) + np.array(confidence_intervals), color='antiquewhite')\n",
    "plt.show()"
   ]
  },
  {
   "cell_type": "code",
   "execution_count": 126,
   "id": "b2d5d702",
   "metadata": {},
   "outputs": [
    {
     "data": {
      "text/plain": [
       "215245"
      ]
     },
     "execution_count": 126,
     "metadata": {},
     "output_type": "execute_result"
    }
   ],
   "source": [
    "model.df.x.max()"
   ]
  },
  {
   "cell_type": "code",
   "execution_count": null,
   "id": "aac3a524",
   "metadata": {},
   "outputs": [],
   "source": []
  }
 ],
 "metadata": {
  "kernelspec": {
   "display_name": "mlenv",
   "language": "python",
   "name": "mlenv"
  },
  "language_info": {
   "codemirror_mode": {
    "name": "ipython",
    "version": 3
   },
   "file_extension": ".py",
   "mimetype": "text/x-python",
   "name": "python",
   "nbconvert_exporter": "python",
   "pygments_lexer": "ipython3",
   "version": "3.8.15"
  }
 },
 "nbformat": 4,
 "nbformat_minor": 5
}
