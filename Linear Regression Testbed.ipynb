{
 "cells": [
  {
   "cell_type": "markdown",
   "id": "d7722f65",
   "metadata": {},
   "source": [
    "## Perform linear regression calculations from first principles"
   ]
  },
  {
   "cell_type": "code",
   "execution_count": 2,
   "id": "7e2a4860",
   "metadata": {},
   "outputs": [],
   "source": [
    "import pandas as pd\n",
    "import numpy as np\n",
    "import matplotlib.pyplot as plt\n",
    "import scipy.stats as st\n",
    "import statsmodels.api as sm"
   ]
  },
  {
   "cell_type": "code",
   "execution_count": 200,
   "id": "beb8b15a",
   "metadata": {},
   "outputs": [],
   "source": [
    "# create a linear regression class, that after pushing in 2 lists, generates all linear regression statistics\n",
    "class LinearReg:\n",
    "    # create a class to generate and store all linear regression variables\n",
    "    \n",
    "    # constructor of the class\n",
    "    def __init__(self, x: list, y: list):\n",
    "        # store x and y in a dataframe\n",
    "        self.df = pd.DataFrame(list(zip(x, y)), columns=['x', 'y'])\n",
    "        self.mean_x, self.mean_y = df['x'].mean(), df['y'].mean()\n",
    "        self.std_x, self.std_y = df['x'].std(), df['y'].std()\n",
    "        self.n = len(self.df)\n",
    "        \n",
    "        # generate standardised values\n",
    "        self.df['standard_x'] = (df['x'] - self.mean_x) / self.std_x\n",
    "        self.df['standard_y'] = (df['y'] - self.mean_y) / self.std_y\n",
    "\n",
    "        # generate correlation coefficient from first principles: average product of standardised values of x and y\n",
    "        # Note we can also use the correlation coefficient\n",
    "        self.corr = sum(self.df.standard_x * self.df.standard_y) / self.n\n",
    "        self.r_squared = self.corr ** 2\n",
    "        \n",
    "        # generate linear coefficients\n",
    "        self.b1 = self.corr * self.std_y / self.std_x\n",
    "        self.b0 = self.mean_y - b1 * self.mean_x\n",
    "        \n",
    "        # generate errors in df\n",
    "        self.df['lin_y'] = self.b0 + self.b1 * self.df.x\n",
    "        self.df['err'] = self.df.y - self.df.lin_y"
   ]
  },
  {
   "cell_type": "code",
   "execution_count": 201,
   "id": "f1965382",
   "metadata": {},
   "outputs": [],
   "source": [
    "model = LinearReg(x, y)"
   ]
  },
  {
   "cell_type": "code",
   "execution_count": 202,
   "id": "e8d5673a",
   "metadata": {},
   "outputs": [
    {
     "data": {
      "text/html": [
       "<div>\n",
       "<style scoped>\n",
       "    .dataframe tbody tr th:only-of-type {\n",
       "        vertical-align: middle;\n",
       "    }\n",
       "\n",
       "    .dataframe tbody tr th {\n",
       "        vertical-align: top;\n",
       "    }\n",
       "\n",
       "    .dataframe thead th {\n",
       "        text-align: right;\n",
       "    }\n",
       "</style>\n",
       "<table border=\"1\" class=\"dataframe\">\n",
       "  <thead>\n",
       "    <tr style=\"text-align: right;\">\n",
       "      <th></th>\n",
       "      <th>x</th>\n",
       "      <th>y</th>\n",
       "      <th>standard_x</th>\n",
       "      <th>standard_y</th>\n",
       "      <th>lin_y</th>\n",
       "      <th>err</th>\n",
       "    </tr>\n",
       "  </thead>\n",
       "  <tbody>\n",
       "    <tr>\n",
       "      <th>0</th>\n",
       "      <td>8450</td>\n",
       "      <td>208500</td>\n",
       "      <td>-0.207071</td>\n",
       "      <td>0.347154</td>\n",
       "      <td>176583.887684</td>\n",
       "      <td>31916.112316</td>\n",
       "    </tr>\n",
       "    <tr>\n",
       "      <th>1</th>\n",
       "      <td>9600</td>\n",
       "      <td>181500</td>\n",
       "      <td>-0.091855</td>\n",
       "      <td>0.007286</td>\n",
       "      <td>178997.201341</td>\n",
       "      <td>2502.798659</td>\n",
       "    </tr>\n",
       "    <tr>\n",
       "      <th>2</th>\n",
       "      <td>11250</td>\n",
       "      <td>223500</td>\n",
       "      <td>0.073455</td>\n",
       "      <td>0.535970</td>\n",
       "      <td>182459.781805</td>\n",
       "      <td>41040.218195</td>\n",
       "    </tr>\n",
       "    <tr>\n",
       "      <th>3</th>\n",
       "      <td>9550</td>\n",
       "      <td>140000</td>\n",
       "      <td>-0.096864</td>\n",
       "      <td>-0.515105</td>\n",
       "      <td>178892.274660</td>\n",
       "      <td>-38892.274660</td>\n",
       "    </tr>\n",
       "    <tr>\n",
       "      <th>4</th>\n",
       "      <td>14260</td>\n",
       "      <td>250000</td>\n",
       "      <td>0.375020</td>\n",
       "      <td>0.869545</td>\n",
       "      <td>188776.367986</td>\n",
       "      <td>61223.632014</td>\n",
       "    </tr>\n",
       "    <tr>\n",
       "      <th>...</th>\n",
       "      <td>...</td>\n",
       "      <td>...</td>\n",
       "      <td>...</td>\n",
       "      <td>...</td>\n",
       "      <td>...</td>\n",
       "      <td>...</td>\n",
       "    </tr>\n",
       "    <tr>\n",
       "      <th>1455</th>\n",
       "      <td>7917</td>\n",
       "      <td>175000</td>\n",
       "      <td>-0.260471</td>\n",
       "      <td>-0.074534</td>\n",
       "      <td>175465.369267</td>\n",
       "      <td>-465.369267</td>\n",
       "    </tr>\n",
       "    <tr>\n",
       "      <th>1456</th>\n",
       "      <td>13175</td>\n",
       "      <td>210000</td>\n",
       "      <td>0.266316</td>\n",
       "      <td>0.366036</td>\n",
       "      <td>186499.459014</td>\n",
       "      <td>23500.540986</td>\n",
       "    </tr>\n",
       "    <tr>\n",
       "      <th>1457</th>\n",
       "      <td>9042</td>\n",
       "      <td>266500</td>\n",
       "      <td>-0.147760</td>\n",
       "      <td>1.077242</td>\n",
       "      <td>177826.219584</td>\n",
       "      <td>88673.780416</td>\n",
       "    </tr>\n",
       "    <tr>\n",
       "      <th>1458</th>\n",
       "      <td>9717</td>\n",
       "      <td>142125</td>\n",
       "      <td>-0.080133</td>\n",
       "      <td>-0.488356</td>\n",
       "      <td>179242.729774</td>\n",
       "      <td>-37117.729774</td>\n",
       "    </tr>\n",
       "    <tr>\n",
       "      <th>1459</th>\n",
       "      <td>9937</td>\n",
       "      <td>147500</td>\n",
       "      <td>-0.058092</td>\n",
       "      <td>-0.420697</td>\n",
       "      <td>179704.407169</td>\n",
       "      <td>-32204.407169</td>\n",
       "    </tr>\n",
       "  </tbody>\n",
       "</table>\n",
       "<p>1460 rows × 6 columns</p>\n",
       "</div>"
      ],
      "text/plain": [
       "          x       y  standard_x  standard_y          lin_y           err\n",
       "0      8450  208500   -0.207071    0.347154  176583.887684  31916.112316\n",
       "1      9600  181500   -0.091855    0.007286  178997.201341   2502.798659\n",
       "2     11250  223500    0.073455    0.535970  182459.781805  41040.218195\n",
       "3      9550  140000   -0.096864   -0.515105  178892.274660 -38892.274660\n",
       "4     14260  250000    0.375020    0.869545  188776.367986  61223.632014\n",
       "...     ...     ...         ...         ...            ...           ...\n",
       "1455   7917  175000   -0.260471   -0.074534  175465.369267   -465.369267\n",
       "1456  13175  210000    0.266316    0.366036  186499.459014  23500.540986\n",
       "1457   9042  266500   -0.147760    1.077242  177826.219584  88673.780416\n",
       "1458   9717  142125   -0.080133   -0.488356  179242.729774 -37117.729774\n",
       "1459   9937  147500   -0.058092   -0.420697  179704.407169 -32204.407169\n",
       "\n",
       "[1460 rows x 6 columns]"
      ]
     },
     "execution_count": 202,
     "metadata": {},
     "output_type": "execute_result"
    }
   ],
   "source": [
    "model.df"
   ]
  },
  {
   "cell_type": "code",
   "execution_count": null,
   "id": "79bf032f",
   "metadata": {},
   "outputs": [],
   "source": []
  },
  {
   "cell_type": "code",
   "execution_count": null,
   "id": "56ff0478",
   "metadata": {},
   "outputs": [],
   "source": []
  },
  {
   "cell_type": "code",
   "execution_count": null,
   "id": "34b15b77",
   "metadata": {},
   "outputs": [],
   "source": []
  },
  {
   "cell_type": "code",
   "execution_count": null,
   "id": "b4641124",
   "metadata": {},
   "outputs": [],
   "source": []
  },
  {
   "cell_type": "code",
   "execution_count": 205,
   "id": "9ecd8f00",
   "metadata": {},
   "outputs": [
    {
     "data": {
      "text/plain": [
       "0.2636626392454669"
      ]
     },
     "execution_count": 205,
     "metadata": {},
     "output_type": "execute_result"
    }
   ],
   "source": [
    "model.corr"
   ]
  },
  {
   "cell_type": "code",
   "execution_count": 184,
   "id": "245ec5a8",
   "metadata": {},
   "outputs": [],
   "source": [
    "x = df.x\n",
    "y = df.y"
   ]
  },
  {
   "cell_type": "code",
   "execution_count": 186,
   "id": "f524cd3c",
   "metadata": {},
   "outputs": [],
   "source": [
    "df = pd.DataFrame(list(zip(x, y)), columns=['x', 'y'])"
   ]
  },
  {
   "cell_type": "code",
   "execution_count": null,
   "id": "abc09be8",
   "metadata": {},
   "outputs": [],
   "source": []
  },
  {
   "cell_type": "code",
   "execution_count": 183,
   "id": "28237738",
   "metadata": {},
   "outputs": [
    {
     "data": {
      "text/html": [
       "<div>\n",
       "<style scoped>\n",
       "    .dataframe tbody tr th:only-of-type {\n",
       "        vertical-align: middle;\n",
       "    }\n",
       "\n",
       "    .dataframe tbody tr th {\n",
       "        vertical-align: top;\n",
       "    }\n",
       "\n",
       "    .dataframe thead th {\n",
       "        text-align: right;\n",
       "    }\n",
       "</style>\n",
       "<table border=\"1\" class=\"dataframe\">\n",
       "  <thead>\n",
       "    <tr style=\"text-align: right;\">\n",
       "      <th></th>\n",
       "      <th>x</th>\n",
       "      <th>y</th>\n",
       "      <th>standard_x</th>\n",
       "      <th>standard_y</th>\n",
       "    </tr>\n",
       "  </thead>\n",
       "  <tbody>\n",
       "    <tr>\n",
       "      <th>0</th>\n",
       "      <td>8450</td>\n",
       "      <td>208500</td>\n",
       "      <td>-0.207071</td>\n",
       "      <td>0.347154</td>\n",
       "    </tr>\n",
       "    <tr>\n",
       "      <th>1</th>\n",
       "      <td>9600</td>\n",
       "      <td>181500</td>\n",
       "      <td>-0.091855</td>\n",
       "      <td>0.007286</td>\n",
       "    </tr>\n",
       "    <tr>\n",
       "      <th>2</th>\n",
       "      <td>11250</td>\n",
       "      <td>223500</td>\n",
       "      <td>0.073455</td>\n",
       "      <td>0.535970</td>\n",
       "    </tr>\n",
       "    <tr>\n",
       "      <th>3</th>\n",
       "      <td>9550</td>\n",
       "      <td>140000</td>\n",
       "      <td>-0.096864</td>\n",
       "      <td>-0.515105</td>\n",
       "    </tr>\n",
       "    <tr>\n",
       "      <th>4</th>\n",
       "      <td>14260</td>\n",
       "      <td>250000</td>\n",
       "      <td>0.375020</td>\n",
       "      <td>0.869545</td>\n",
       "    </tr>\n",
       "    <tr>\n",
       "      <th>...</th>\n",
       "      <td>...</td>\n",
       "      <td>...</td>\n",
       "      <td>...</td>\n",
       "      <td>...</td>\n",
       "    </tr>\n",
       "    <tr>\n",
       "      <th>1455</th>\n",
       "      <td>7917</td>\n",
       "      <td>175000</td>\n",
       "      <td>-0.260471</td>\n",
       "      <td>-0.074534</td>\n",
       "    </tr>\n",
       "    <tr>\n",
       "      <th>1456</th>\n",
       "      <td>13175</td>\n",
       "      <td>210000</td>\n",
       "      <td>0.266316</td>\n",
       "      <td>0.366036</td>\n",
       "    </tr>\n",
       "    <tr>\n",
       "      <th>1457</th>\n",
       "      <td>9042</td>\n",
       "      <td>266500</td>\n",
       "      <td>-0.147760</td>\n",
       "      <td>1.077242</td>\n",
       "    </tr>\n",
       "    <tr>\n",
       "      <th>1458</th>\n",
       "      <td>9717</td>\n",
       "      <td>142125</td>\n",
       "      <td>-0.080133</td>\n",
       "      <td>-0.488356</td>\n",
       "    </tr>\n",
       "    <tr>\n",
       "      <th>1459</th>\n",
       "      <td>9937</td>\n",
       "      <td>147500</td>\n",
       "      <td>-0.058092</td>\n",
       "      <td>-0.420697</td>\n",
       "    </tr>\n",
       "  </tbody>\n",
       "</table>\n",
       "<p>1460 rows × 4 columns</p>\n",
       "</div>"
      ],
      "text/plain": [
       "          x       y  standard_x  standard_y\n",
       "0      8450  208500   -0.207071    0.347154\n",
       "1      9600  181500   -0.091855    0.007286\n",
       "2     11250  223500    0.073455    0.535970\n",
       "3      9550  140000   -0.096864   -0.515105\n",
       "4     14260  250000    0.375020    0.869545\n",
       "...     ...     ...         ...         ...\n",
       "1455   7917  175000   -0.260471   -0.074534\n",
       "1456  13175  210000    0.266316    0.366036\n",
       "1457   9042  266500   -0.147760    1.077242\n",
       "1458   9717  142125   -0.080133   -0.488356\n",
       "1459   9937  147500   -0.058092   -0.420697\n",
       "\n",
       "[1460 rows x 4 columns]"
      ]
     },
     "execution_count": 183,
     "metadata": {},
     "output_type": "execute_result"
    }
   ],
   "source": [
    "df"
   ]
  },
  {
   "cell_type": "code",
   "execution_count": null,
   "id": "4782471f",
   "metadata": {},
   "outputs": [],
   "source": []
  },
  {
   "cell_type": "code",
   "execution_count": null,
   "id": "9186a092",
   "metadata": {},
   "outputs": [],
   "source": []
  },
  {
   "cell_type": "code",
   "execution_count": 178,
   "id": "5d7c2aa8",
   "metadata": {},
   "outputs": [],
   "source": [
    "# import relevant datasets\n",
    "train_df = pd.read_csv('train.csv')\n",
    "test_df = pd.read_csv('test.csv')"
   ]
  },
  {
   "cell_type": "markdown",
   "id": "49bfaeff",
   "metadata": {},
   "source": [
    "Univariate Linear Regression"
   ]
  },
  {
   "cell_type": "code",
   "execution_count": 179,
   "id": "4743cfd9",
   "metadata": {},
   "outputs": [],
   "source": [
    "# remove non-numerical columns\n",
    "train_df = train_df.loc[:, train_df.dtypes != 'object']"
   ]
  },
  {
   "cell_type": "code",
   "execution_count": 180,
   "id": "7667024f",
   "metadata": {},
   "outputs": [],
   "source": [
    "# selecting lot area for linear regression\n",
    "df = train_df[['LotArea', 'SalePrice']]"
   ]
  },
  {
   "cell_type": "markdown",
   "id": "68158293",
   "metadata": {},
   "source": [
    "## Calculate correlation coefficient between variables"
   ]
  },
  {
   "cell_type": "code",
   "execution_count": 181,
   "id": "1bbb31b5",
   "metadata": {},
   "outputs": [],
   "source": [
    "# calculate standardised variables\n",
    "df = df.rename(columns={'LotArea':'x', 'SalePrice':'y'})\n",
    "df['standard_x'] = (df['x'] - df['x'].mean()) / df['x'].std()\n",
    "df['standard_y'] = (df['y'] - df['y'].mean()) / df['y'].std()"
   ]
  },
  {
   "cell_type": "code",
   "execution_count": 182,
   "id": "0578cd7b",
   "metadata": {},
   "outputs": [
    {
     "data": {
      "image/png": "[encoded data removed]",
      "text/plain": [
       "<Figure size 360x216 with 1 Axes>"
      ]
     },
     "metadata": {
      "needs_background": "light"
     },
     "output_type": "display_data"
    }
   ],
   "source": [
    "df.plot.scatter(x='x', y='y', figsize=(5, 3))\n",
    "plt.show()"
   ]
  },
  {
   "cell_type": "code",
   "execution_count": 8,
   "id": "579e8355",
   "metadata": {},
   "outputs": [
    {
     "name": "stdout",
     "output_type": "stream",
     "text": [
      "0.2636626392454669\n"
     ]
    }
   ],
   "source": [
    "# calculate correlation from first principles\n",
    "corr = (sum(df['standard_x'] * df['standard_y'])) / len(df)\n",
    "print(corr)"
   ]
  },
  {
   "cell_type": "code",
   "execution_count": 9,
   "id": "b0ddd558",
   "metadata": {},
   "outputs": [],
   "source": [
    "# calculation using covariance instead of conversion into standardised variables\n",
    "new_corr = (df['x'].cov(df['y'])) / (df['x'].std() * df['y'].std())"
   ]
  },
  {
   "cell_type": "code",
   "execution_count": 10,
   "id": "10c0ca19",
   "metadata": {},
   "outputs": [
    {
     "data": {
      "text/html": [
       "<div>\n",
       "<style scoped>\n",
       "    .dataframe tbody tr th:only-of-type {\n",
       "        vertical-align: middle;\n",
       "    }\n",
       "\n",
       "    .dataframe tbody tr th {\n",
       "        vertical-align: top;\n",
       "    }\n",
       "\n",
       "    .dataframe thead th {\n",
       "        text-align: right;\n",
       "    }\n",
       "</style>\n",
       "<table border=\"1\" class=\"dataframe\">\n",
       "  <thead>\n",
       "    <tr style=\"text-align: right;\">\n",
       "      <th></th>\n",
       "      <th>x</th>\n",
       "      <th>y</th>\n",
       "      <th>standard_x</th>\n",
       "      <th>standard_y</th>\n",
       "    </tr>\n",
       "  </thead>\n",
       "  <tbody>\n",
       "    <tr>\n",
       "      <th>x</th>\n",
       "      <td>1.000000</td>\n",
       "      <td>0.263843</td>\n",
       "      <td>1.000000</td>\n",
       "      <td>0.263843</td>\n",
       "    </tr>\n",
       "    <tr>\n",
       "      <th>y</th>\n",
       "      <td>0.263843</td>\n",
       "      <td>1.000000</td>\n",
       "      <td>0.263843</td>\n",
       "      <td>1.000000</td>\n",
       "    </tr>\n",
       "    <tr>\n",
       "      <th>standard_x</th>\n",
       "      <td>1.000000</td>\n",
       "      <td>0.263843</td>\n",
       "      <td>1.000000</td>\n",
       "      <td>0.263843</td>\n",
       "    </tr>\n",
       "    <tr>\n",
       "      <th>standard_y</th>\n",
       "      <td>0.263843</td>\n",
       "      <td>1.000000</td>\n",
       "      <td>0.263843</td>\n",
       "      <td>1.000000</td>\n",
       "    </tr>\n",
       "  </tbody>\n",
       "</table>\n",
       "</div>"
      ],
      "text/plain": [
       "                   x         y  standard_x  standard_y\n",
       "x           1.000000  0.263843    1.000000    0.263843\n",
       "y           0.263843  1.000000    0.263843    1.000000\n",
       "standard_x  1.000000  0.263843    1.000000    0.263843\n",
       "standard_y  0.263843  1.000000    0.263843    1.000000"
      ]
     },
     "execution_count": 10,
     "metadata": {},
     "output_type": "execute_result"
    }
   ],
   "source": [
    "# calculate corr using function\n",
    "df.corr()"
   ]
  },
  {
   "cell_type": "markdown",
   "id": "f7b91181",
   "metadata": {},
   "source": [
    "### Calculating linear coefficients"
   ]
  },
  {
   "cell_type": "code",
   "execution_count": 11,
   "id": "73e3b273",
   "metadata": {},
   "outputs": [],
   "source": [
    "# b0 and b1 for Y and X\n",
    "# b1 is literally the scaling factor on the correlation coefficient\n",
    "b1 = corr * df['y'].std() / df['x'].std()\n",
    "b0 = df['y'].mean() - b1 * df['x'].mean()"
   ]
  },
  {
   "cell_type": "code",
   "execution_count": 12,
   "id": "5cc011bc",
   "metadata": {},
   "outputs": [],
   "source": [
    "# plot new chart based on linear regression\n",
    "pred_x = [x for x in range(0, 200000, 1)]\n",
    "pred_y = [b0 + b1*x for x in range(0, 200000, 1)]"
   ]
  },
  {
   "cell_type": "code",
   "execution_count": 13,
   "id": "66c129e2",
   "metadata": {},
   "outputs": [
    {
     "data": {
      "image/png": "[encoded data removed]",
      "text/plain": [
       "<Figure size 504x360 with 1 Axes>"
      ]
     },
     "metadata": {
      "needs_background": "light"
     },
     "output_type": "display_data"
    }
   ],
   "source": [
    "# plot predictions\n",
    "plt.figure(figsize=(7, 5))\n",
    "plt.scatter(x=df['x'], y=df['y'])\n",
    "plt.plot(pred_x, pred_y, c='red')\n",
    "plt.title('Linear Regression with Scatter Plot')\n",
    "plt.show()"
   ]
  },
  {
   "cell_type": "code",
   "execution_count": 14,
   "id": "be3d1e59",
   "metadata": {},
   "outputs": [],
   "source": [
    "# calculating R-squared from correlation coefficient\n",
    "r_squared = corr * corr"
   ]
  },
  {
   "cell_type": "code",
   "execution_count": 15,
   "id": "3b881ed7",
   "metadata": {},
   "outputs": [],
   "source": [
    "df['lin_y'] = b0 + b1 * df['x']"
   ]
  },
  {
   "cell_type": "code",
   "execution_count": 16,
   "id": "8e917c9e",
   "metadata": {},
   "outputs": [],
   "source": [
    "# calculating SSE\n",
    "df['err'] = df['lin_y'] - df['y']\n",
    "error_var = df['err'].var()  # variance of the erros\n",
    "y_var = df['y'].var()  # variance of the y valueas"
   ]
  },
  {
   "cell_type": "code",
   "execution_count": 17,
   "id": "08cf4f8c",
   "metadata": {},
   "outputs": [],
   "source": [
    "manual_r_squared = 1 - (error_var) / y_var"
   ]
  },
  {
   "cell_type": "code",
   "execution_count": 18,
   "id": "6f425885",
   "metadata": {},
   "outputs": [],
   "source": [
    "sse = sum(df['err'] * df['err'])\n",
    "rmse = np.sqrt(sse / len(df))"
   ]
  },
  {
   "cell_type": "markdown",
   "id": "7c5e886e",
   "metadata": {},
   "source": [
    "### Implement Checks on Linear Regression Examples"
   ]
  },
  {
   "cell_type": "markdown",
   "id": "2304d8b5",
   "metadata": {},
   "source": [
    "#### Checking on Linearity between X and the mean of Y\n",
    "1. Linearity: Points should be symmetrically distributed around a horizontal line, with a roughly constant variance"
   ]
  },
  {
   "cell_type": "code",
   "execution_count": 48,
   "id": "c126b79d",
   "metadata": {},
   "outputs": [
    {
     "data": {
      "image/png": "[encoded data removed]",
      "text/plain": [
       "<Figure size 432x288 with 1 Axes>"
      ]
     },
     "metadata": {
      "needs_background": "light"
     },
     "output_type": "display_data"
    }
   ],
   "source": [
    "# plot residuals against independent variables\n",
    "plt.scatter(df.lin_y, df.err)\n",
    "plt.show()"
   ]
  },
  {
   "cell_type": "markdown",
   "id": "8668933c",
   "metadata": {},
   "source": [
    "Observations from above, majority of points are symmetricallty distributed around horizontal line, but there are outliers"
   ]
  },
  {
   "cell_type": "markdown",
   "id": "0ff6c3ae",
   "metadata": {},
   "source": [
    "#### Checking on Homoscedasticity\n",
    "1. Plot Residuals against predicted values\n",
    "2. Scale-Location Plot: Square-root of standardised residuals vs predicted value\n",
    "3. Make sure no pattern in residuals and that they are equally split around the y=0 line\n",
    "4. The variance of residuals\n",
    "\n",
    "Fix:\n",
    "1. Perform transformations --> Log, or any other transformation to find the right independent variables"
   ]
  },
  {
   "cell_type": "code",
   "execution_count": 38,
   "id": "b5492b11",
   "metadata": {},
   "outputs": [
    {
     "data": {
      "image/png": "[encoded data removed]",
      "text/plain": [
       "<Figure size 432x288 with 1 Axes>"
      ]
     },
     "metadata": {
      "needs_background": "light"
     },
     "output_type": "display_data"
    }
   ],
   "source": [
    "# plot residuals against predicted values, and also scale-location plot\n",
    "plt.scatter(df.lin_y, df.err)\n",
    "plt.title('Checking for Homoscedasticity: Residual agaist predicted values')\n",
    "plt.show()"
   ]
  },
  {
   "cell_type": "code",
   "execution_count": 60,
   "id": "71e0fc29",
   "metadata": {},
   "outputs": [],
   "source": [
    "# plot scale-location plot; the root of the absolute of the errors\n",
    "df['root_standardised_residual'] = np.sqrt(np.abs(df['err'] / df['lin_y'].apply(np.sqrt)))"
   ]
  },
  {
   "cell_type": "code",
   "execution_count": 61,
   "id": "f2783aa0",
   "metadata": {},
   "outputs": [
    {
     "data": {
      "image/png": "[encoded data removed]",
      "text/plain": [
       "<Figure size 432x288 with 1 Axes>"
      ]
     },
     "metadata": {
      "needs_background": "light"
     },
     "output_type": "display_data"
    }
   ],
   "source": [
    "plt.scatter(df.lin_y, df.root_standardised_residual)\n",
    "plt.title('Scale Location Plot: Root Standardised Residual vs Predicted Value')\n",
    "plt.show()"
   ]
  },
  {
   "cell_type": "markdown",
   "id": "fd0869ee",
   "metadata": {},
   "source": [
    "### Checking on Statistical Independence of Errors"
   ]
  },
  {
   "cell_type": "code",
   "execution_count": 50,
   "id": "8453e155",
   "metadata": {},
   "outputs": [
    {
     "data": {
      "image/png": "[encoded data removed]",
      "text/plain": [
       "<Figure size 432x288 with 1 Axes>"
      ]
     },
     "metadata": {
      "needs_background": "light"
     },
     "output_type": "display_data"
    }
   ],
   "source": [
    "# ensure no correlation between consecutive errors\n",
    "# plot residuals against independent variable. There should be no trend no matter how the rows are sorted\n",
    "plt.scatter(df.x, df.err)\n",
    "plt.show()"
   ]
  },
  {
   "cell_type": "markdown",
   "id": "5af4311d",
   "metadata": {},
   "source": [
    "### Checking on Normality of the Error Distribution"
   ]
  },
  {
   "cell_type": "code",
   "execution_count": 65,
   "id": "7a126b27",
   "metadata": {},
   "outputs": [],
   "source": [
    "# calculating mean and SD of errors, assuming a normal distribution\n",
    "err_mean = df['err'].mean()\n",
    "err_std = df['err'].std()"
   ]
  },
  {
   "cell_type": "code",
   "execution_count": 67,
   "id": "b78695ab",
   "metadata": {},
   "outputs": [],
   "source": [
    "df['err_percentile'] = st.percentileofscore(df.err, df.err)"
   ]
  },
  {
   "cell_type": "code",
   "execution_count": 80,
   "id": "867eb9db",
   "metadata": {},
   "outputs": [],
   "source": [
    "df['theoretical_err'] = (st.norm.ppf(df['err_percentile']/100) * err_std) + err_mean"
   ]
  },
  {
   "cell_type": "code",
   "execution_count": 85,
   "id": "2f01392b",
   "metadata": {},
   "outputs": [
    {
     "data": {
      "image/png": "[encoded data removed]",
      "text/plain": [
       "<Figure size 432x288 with 1 Axes>"
      ]
     },
     "metadata": {
      "needs_background": "light"
     },
     "output_type": "display_data"
    }
   ],
   "source": [
    "# plot actual error over theoretical error assuming normality of the error distribution\n",
    "plt.scatter(df.theoretical_err, df.err)\n",
    "plt.title('QQ Plot of Error Distribution')\n",
    "plt.show()"
   ]
  },
  {
   "cell_type": "code",
   "execution_count": 100,
   "id": "e5542ae9",
   "metadata": {},
   "outputs": [
    {
     "data": {
      "image/png": "[encoded data removed]",
      "text/plain": [
       "<Figure size 432x288 with 1 Axes>"
      ]
     },
     "metadata": {
      "needs_background": "light"
     },
     "output_type": "display_data"
    }
   ],
   "source": [
    "sm.qqplot(df.err, fit=True)\n",
    "plt.title('Quantile-Quantile Plot of the Error Distribution')\n",
    "plt.show()"
   ]
  },
  {
   "cell_type": "markdown",
   "id": "c99be1cb",
   "metadata": {},
   "source": [
    "### Tabulate Standard Errors of the Linear Regression Model\n",
    "1. Standard Error of the Regression\n",
    "2. Standard Error of the Mean\n",
    "3. Standard Error of the Forecast (Prediction)\n",
    "4. Confidence Interval of the Forecast\n",
    "5. Standard Error of the Linear Coefficients"
   ]
  },
  {
   "cell_type": "code",
   "execution_count": 104,
   "id": "da1b828d",
   "metadata": {},
   "outputs": [],
   "source": [
    "# standard error of the regression\n",
    "se_reg = np.sqrt(sum(df.err ** 2) / (len(df)-2))"
   ]
  },
  {
   "cell_type": "code",
   "execution_count": 111,
   "id": "13620eb7",
   "metadata": {},
   "outputs": [],
   "source": [
    "# scaling factor for checking --> another way\n",
    "se_reg_v2 = df.err.std() * np.sqrt((len(df.err) - 1) / (len(df.err)-2))"
   ]
  },
  {
   "cell_type": "code",
   "execution_count": 114,
   "id": "7a4a6e07",
   "metadata": {},
   "outputs": [],
   "source": [
    "# standard error of the mean, at a certain X value --> tabulate for all X values\n",
    "df['se_mean'] = (se_reg / np.sqrt(len(df))) * np.sqrt(1 + ((df.x - df.x.mean())**2)/df.x.var())"
   ]
  },
  {
   "cell_type": "markdown",
   "id": "8e1f2ab1",
   "metadata": {},
   "source": [
    "The SE_Mean is larger for values that are further away from the mean"
   ]
  },
  {
   "cell_type": "code",
   "execution_count": 122,
   "id": "13bb0cf1",
   "metadata": {},
   "outputs": [],
   "source": [
    "df['se_forecast'] = np.sqrt(se_reg ** 2 + df['se_mean'] ** 2)"
   ]
  },
  {
   "cell_type": "code",
   "execution_count": 130,
   "id": "bbb29fd1",
   "metadata": {},
   "outputs": [],
   "source": [
    "# obtain confidence interval of the forecast\n",
    "# confidence interval = critical t-value * standard error\n",
    "df['se_forecast_conf_95'] = st.norm.ppf(0.95) * df['se_forecast']\n",
    "df['se_forecast_conf_90'] = st.norm.ppf(0.90) * df['se_forecast']"
   ]
  },
  {
   "cell_type": "code",
   "execution_count": 161,
   "id": "ed61a9e8",
   "metadata": {},
   "outputs": [],
   "source": [
    "# obtain standard error of the linear coefficients\n",
    "se_b1 = se_reg / (np.sqrt(len(df))) * (np.sqrt(1 + (df.x.mean()**2 / df.x.var())))\n",
    "se_b0 = se_reg / np.sqrt(len(df)) * (1 / df.x.std())"
   ]
  },
  {
   "cell_type": "code",
   "execution_count": 162,
   "id": "d42c51cb",
   "metadata": {},
   "outputs": [
    {
     "data": {
      "text/plain": [
       "0.20098865411734299"
      ]
     },
     "execution_count": 162,
     "metadata": {},
     "output_type": "execute_result"
    }
   ],
   "source": [
    "se_b0"
   ]
  },
  {
   "cell_type": "code",
   "execution_count": 163,
   "id": "a07f46a7",
   "metadata": {},
   "outputs": [
    {
     "data": {
      "text/plain": [
       "2914.192173222943"
      ]
     },
     "execution_count": 163,
     "metadata": {},
     "output_type": "execute_result"
    }
   ],
   "source": [
    "se_b1"
   ]
  },
  {
   "cell_type": "code",
   "execution_count": 149,
   "id": "57d74e5d",
   "metadata": {},
   "outputs": [
    {
     "data": {
      "image/png": "[encoded data removed]",
      "text/plain": [
       "<Figure size 432x288 with 1 Axes>"
      ]
     },
     "metadata": {
      "needs_background": "light"
     },
     "output_type": "display_data"
    }
   ],
   "source": [
    "plt.scatter(df.x, df.y)\n",
    "plt.plot(df.x, df.lin_y, color='red')\n",
    "plt.fill(df.x, df.lin_y + df.se_forecast_conf_90, df.lin_y - df.se_forecast_conf_90)\n",
    "plt.show()"
   ]
  },
  {
   "cell_type": "code",
   "execution_count": 125,
   "id": "61d4158c",
   "metadata": {},
   "outputs": [
    {
     "data": {
      "text/plain": [
       "1.6448536269514722"
      ]
     },
     "execution_count": 125,
     "metadata": {},
     "output_type": "execute_result"
    }
   ],
   "source": [
    "st.norm.ppf(0.95)"
   ]
  },
  {
   "cell_type": "code",
   "execution_count": null,
   "id": "1ea639e9",
   "metadata": {},
   "outputs": [],
   "source": []
  },
  {
   "cell_type": "code",
   "execution_count": null,
   "id": "7e83bfef",
   "metadata": {},
   "outputs": [],
   "source": []
  },
  {
   "cell_type": "code",
   "execution_count": null,
   "id": "9b571658",
   "metadata": {},
   "outputs": [],
   "source": []
  },
  {
   "cell_type": "code",
   "execution_count": null,
   "id": "0ff866d9",
   "metadata": {},
   "outputs": [],
   "source": []
  },
  {
   "cell_type": "code",
   "execution_count": null,
   "id": "beed1e6f",
   "metadata": {},
   "outputs": [],
   "source": []
  },
  {
   "cell_type": "code",
   "execution_count": null,
   "id": "3acd1e00",
   "metadata": {},
   "outputs": [],
   "source": []
  },
  {
   "cell_type": "code",
   "execution_count": null,
   "id": "f18f89f3",
   "metadata": {},
   "outputs": [],
   "source": []
  },
  {
   "cell_type": "code",
   "execution_count": null,
   "id": "1a938986",
   "metadata": {},
   "outputs": [],
   "source": []
  }
 ],
 "metadata": {
  "kernelspec": {
   "display_name": "mlenv",
   "language": "python",
   "name": "mlenv"
  },
  "language_info": {
   "codemirror_mode": {
    "name": "ipython",
    "version": 3
   },
   "file_extension": ".py",
   "mimetype": "text/x-python",
   "name": "python",
   "nbconvert_exporter": "python",
   "pygments_lexer": "ipython3",
   "version": "3.8.15"
  }
 },
 "nbformat": 4,
 "nbformat_minor": 5
}
